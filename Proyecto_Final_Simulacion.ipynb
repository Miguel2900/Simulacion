{
  "cells": [
    {
      "cell_type": "markdown",
      "metadata": {
        "id": "view-in-github",
        "colab_type": "text"
      },
      "source": [
        "<a href=\"https://colab.research.google.com/github/Miguel2900/Simulacion/blob/main/Proyecto_Final_Simulacion.ipynb\" target=\"_parent\"><img src=\"https://colab.research.google.com/assets/colab-badge.svg\" alt=\"Open In Colab\"/></a>"
      ]
    },
    {
      "cell_type": "code",
      "execution_count": 1,
      "metadata": {
        "id": "7oMKtp0hCnQY"
      },
      "outputs": [],
      "source": [
        "from tensorflow.keras.datasets.cifar10 import load_data\n",
        "from matplotlib import pyplot\n",
        "from numpy import asarray\n",
        "from numpy import unique\n",
        "from numpy import argmax\n",
        "\n",
        "from tensorflow.keras import Sequential\n",
        "from tensorflow.keras.layers import Dense\n",
        "from tensorflow.keras.layers import Conv2D\n",
        "from tensorflow.keras.layers import MaxPool2D\n",
        "from tensorflow.keras.layers import Flatten\n",
        "from tensorflow.keras.layers import Dropout\n",
        "\n",
        "import pandas as pd\n",
        "from tqdm import tqdm"
      ]
    },
    {
      "cell_type": "code",
      "execution_count": 2,
      "metadata": {
        "id": "C20DshofDmYS"
      },
      "outputs": [],
      "source": [
        "(trainingData,trainingCategories),(testData,testCategories) = load_data()"
      ]
    },
    {
      "cell_type": "code",
      "execution_count": 3,
      "metadata": {
        "id": "_ehrZBg7GxEx"
      },
      "outputs": [],
      "source": [
        "trainingData2=trainingData\n",
        "trainingData3=trainingData[:5000]\n",
        "testData2=testData\n",
        "\n",
        "trainingData2=trainingData2.astype('float32')/255.0\n",
        "trainingData3=trainingData3.astype('float32')/255.0\n",
        "testData2=testData2.astype('float32')/255.0\n",
        "format=trainingData.shape[1:]\n",
        "clasif=len(unique(trainingCategories))"
      ]
    },
    {
      "cell_type": "code",
      "execution_count": 4,
      "metadata": {
        "id": "egSywVE7JRuM"
      },
      "outputs": [],
      "source": [
        "red1=Sequential()\n",
        "red1.add(Conv2D(32,(3,3),activation='relu',kernel_initializer='he_uniform',input_shape=format))\n",
        "red1.add(MaxPool2D((3,3)))\n",
        "red1.add(Conv2D(48,(3,3),activation='relu',kernel_initializer='he_uniform',input_shape=format))\n",
        "red1.add(MaxPool2D((2,2)))\n",
        "red1.add(Conv2D(64,(2,2),activation='relu',kernel_initializer='he_uniform',input_shape=format))\n",
        "red1.add(Flatten())\n",
        "red1.add(Dense(500,activation='relu',kernel_initializer='he_uniform'))\n",
        "red1.add(Dropout(0.5))\n",
        "red1.add(Dense(clasif,activation='softmax'))\n",
        "\n",
        "red1.compile(optimizer='adam',loss='sparse_categorical_crossentropy',metrics=['accuracy'])"
      ]
    },
    {
      "cell_type": "code",
      "source": [
        "red2=Sequential()\n",
        "red2.add(Conv2D(32,(3,3),activation='relu',kernel_initializer='he_uniform',input_shape=format))\n",
        "red2.add(MaxPool2D((3,3)))\n",
        "red2.add(Conv2D(48,(3,3),activation='relu',kernel_initializer='he_uniform',input_shape=format))\n",
        "red2.add(MaxPool2D((2,2)))\n",
        "red2.add(Conv2D(64,(2,2),activation='relu',kernel_initializer='he_uniform',input_shape=format))\n",
        "red2.add(Flatten())\n",
        "red2.add(Dense(500,activation='relu',kernel_initializer='he_uniform'))\n",
        "red2.add(Dropout(0.5))\n",
        "red2.add(Dense(clasif,activation='softmax'))\n",
        "\n",
        "red2.compile(optimizer='adam',loss='sparse_categorical_crossentropy',metrics=['accuracy'])"
      ],
      "metadata": {
        "id": "8A1ycEZ8ksgC"
      },
      "execution_count": 5,
      "outputs": []
    },
    {
      "cell_type": "code",
      "execution_count": 6,
      "metadata": {
        "id": "yGqNwYXDOzfs",
        "colab": {
          "base_uri": "https://localhost:8080/"
        },
        "outputId": "dd75df6f-4d6c-48fa-c781-b7efbf99be2c"
      },
      "outputs": [
        {
          "output_type": "stream",
          "name": "stdout",
          "text": [
            "Epoch 1/20\n",
            "293/293 [==============================] - 6s 13ms/step - loss: 1.6774 - accuracy: 0.3921 - val_loss: 1.3918 - val_accuracy: 0.4981\n",
            "Epoch 2/20\n",
            "293/293 [==============================] - 3s 9ms/step - loss: 1.2844 - accuracy: 0.5409 - val_loss: 1.2073 - val_accuracy: 0.5744\n",
            "Epoch 3/20\n",
            "293/293 [==============================] - 3s 10ms/step - loss: 1.1485 - accuracy: 0.5902 - val_loss: 1.0756 - val_accuracy: 0.6242\n",
            "Epoch 4/20\n",
            "293/293 [==============================] - 2s 6ms/step - loss: 1.0472 - accuracy: 0.6287 - val_loss: 1.0439 - val_accuracy: 0.6339\n",
            "Epoch 5/20\n",
            "293/293 [==============================] - 2s 6ms/step - loss: 0.9726 - accuracy: 0.6572 - val_loss: 0.9723 - val_accuracy: 0.6608\n",
            "Epoch 6/20\n",
            "293/293 [==============================] - 2s 6ms/step - loss: 0.9040 - accuracy: 0.6827 - val_loss: 0.9588 - val_accuracy: 0.6650\n",
            "Epoch 7/20\n",
            "293/293 [==============================] - 2s 6ms/step - loss: 0.8481 - accuracy: 0.7025 - val_loss: 0.9030 - val_accuracy: 0.6864\n",
            "Epoch 8/20\n",
            "293/293 [==============================] - 2s 6ms/step - loss: 0.7976 - accuracy: 0.7189 - val_loss: 0.9209 - val_accuracy: 0.6845\n",
            "Epoch 9/20\n",
            "293/293 [==============================] - 2s 6ms/step - loss: 0.7603 - accuracy: 0.7310 - val_loss: 0.8723 - val_accuracy: 0.7002\n",
            "Epoch 10/20\n",
            "293/293 [==============================] - 2s 6ms/step - loss: 0.7140 - accuracy: 0.7466 - val_loss: 0.8809 - val_accuracy: 0.7010\n",
            "Epoch 11/20\n",
            "293/293 [==============================] - 2s 6ms/step - loss: 0.6754 - accuracy: 0.7613 - val_loss: 0.8667 - val_accuracy: 0.7032\n",
            "Epoch 12/20\n",
            "293/293 [==============================] - 2s 6ms/step - loss: 0.6357 - accuracy: 0.7761 - val_loss: 0.8963 - val_accuracy: 0.7000\n",
            "Epoch 13/20\n",
            "293/293 [==============================] - 2s 6ms/step - loss: 0.6052 - accuracy: 0.7851 - val_loss: 0.8455 - val_accuracy: 0.7137\n",
            "Epoch 14/20\n",
            "293/293 [==============================] - 2s 6ms/step - loss: 0.5784 - accuracy: 0.7920 - val_loss: 0.8648 - val_accuracy: 0.7161\n",
            "Epoch 15/20\n",
            "293/293 [==============================] - 2s 6ms/step - loss: 0.5491 - accuracy: 0.8058 - val_loss: 0.8756 - val_accuracy: 0.7158\n",
            "Epoch 16/20\n",
            "293/293 [==============================] - 2s 7ms/step - loss: 0.5145 - accuracy: 0.8164 - val_loss: 0.8740 - val_accuracy: 0.7171\n",
            "Epoch 17/20\n",
            "293/293 [==============================] - 2s 6ms/step - loss: 0.4866 - accuracy: 0.8246 - val_loss: 0.8649 - val_accuracy: 0.7186\n",
            "Epoch 18/20\n",
            "293/293 [==============================] - 2s 6ms/step - loss: 0.4572 - accuracy: 0.8360 - val_loss: 0.8932 - val_accuracy: 0.7183\n",
            "Epoch 19/20\n",
            "293/293 [==============================] - 2s 7ms/step - loss: 0.4355 - accuracy: 0.8457 - val_loss: 0.9203 - val_accuracy: 0.7191\n",
            "Epoch 20/20\n",
            "293/293 [==============================] - 2s 6ms/step - loss: 0.4117 - accuracy: 0.8525 - val_loss: 0.9389 - val_accuracy: 0.7145\n",
            "Epoch 1/20\n",
            "30/30 [==============================] - 1s 18ms/step - loss: 2.2543 - accuracy: 0.1803 - val_loss: 1.9596 - val_accuracy: 0.2912\n",
            "Epoch 2/20\n",
            "30/30 [==============================] - 0s 7ms/step - loss: 1.9055 - accuracy: 0.3043 - val_loss: 1.7502 - val_accuracy: 0.3688\n",
            "Epoch 3/20\n",
            "30/30 [==============================] - 0s 7ms/step - loss: 1.7394 - accuracy: 0.3659 - val_loss: 1.6652 - val_accuracy: 0.3896\n",
            "Epoch 4/20\n",
            "30/30 [==============================] - 0s 8ms/step - loss: 1.5927 - accuracy: 0.4269 - val_loss: 1.5512 - val_accuracy: 0.4480\n",
            "Epoch 5/20\n",
            "30/30 [==============================] - 0s 8ms/step - loss: 1.4920 - accuracy: 0.4541 - val_loss: 1.5291 - val_accuracy: 0.4416\n",
            "Epoch 6/20\n",
            "30/30 [==============================] - 0s 7ms/step - loss: 1.4294 - accuracy: 0.4851 - val_loss: 1.4804 - val_accuracy: 0.4712\n",
            "Epoch 7/20\n",
            "30/30 [==============================] - 0s 8ms/step - loss: 1.3422 - accuracy: 0.5296 - val_loss: 1.4500 - val_accuracy: 0.4816\n",
            "Epoch 8/20\n",
            "30/30 [==============================] - 0s 7ms/step - loss: 1.2671 - accuracy: 0.5533 - val_loss: 1.4456 - val_accuracy: 0.4920\n",
            "Epoch 9/20\n",
            "30/30 [==============================] - 0s 8ms/step - loss: 1.2122 - accuracy: 0.5725 - val_loss: 1.3946 - val_accuracy: 0.4944\n",
            "Epoch 10/20\n",
            "30/30 [==============================] - 0s 8ms/step - loss: 1.1296 - accuracy: 0.6077 - val_loss: 1.3518 - val_accuracy: 0.5128\n",
            "Epoch 11/20\n",
            "30/30 [==============================] - 0s 8ms/step - loss: 1.0696 - accuracy: 0.6184 - val_loss: 1.3747 - val_accuracy: 0.5184\n",
            "Epoch 12/20\n",
            "30/30 [==============================] - 0s 7ms/step - loss: 1.0238 - accuracy: 0.6333 - val_loss: 1.3837 - val_accuracy: 0.5032\n",
            "Epoch 13/20\n",
            "30/30 [==============================] - 0s 9ms/step - loss: 0.9404 - accuracy: 0.6659 - val_loss: 1.3795 - val_accuracy: 0.5208\n",
            "Epoch 14/20\n",
            "30/30 [==============================] - 0s 8ms/step - loss: 0.8764 - accuracy: 0.6861 - val_loss: 1.3427 - val_accuracy: 0.5368\n",
            "Epoch 15/20\n",
            "30/30 [==============================] - 0s 7ms/step - loss: 0.8332 - accuracy: 0.7133 - val_loss: 1.3889 - val_accuracy: 0.5296\n",
            "Epoch 16/20\n",
            "30/30 [==============================] - 0s 8ms/step - loss: 0.7952 - accuracy: 0.7192 - val_loss: 1.3770 - val_accuracy: 0.5264\n",
            "Epoch 17/20\n",
            "30/30 [==============================] - 0s 8ms/step - loss: 0.7754 - accuracy: 0.7280 - val_loss: 1.4083 - val_accuracy: 0.5288\n",
            "Epoch 18/20\n",
            "30/30 [==============================] - 0s 8ms/step - loss: 0.6977 - accuracy: 0.7595 - val_loss: 1.3931 - val_accuracy: 0.5248\n",
            "Epoch 19/20\n",
            "30/30 [==============================] - 0s 7ms/step - loss: 0.6313 - accuracy: 0.7899 - val_loss: 1.4350 - val_accuracy: 0.5232\n",
            "Epoch 20/20\n",
            "30/30 [==============================] - 0s 7ms/step - loss: 0.5895 - accuracy: 0.8077 - val_loss: 1.3873 - val_accuracy: 0.5432\n"
          ]
        }
      ],
      "source": [
        "logs=red1.fit(trainingData2,trainingCategories,validation_split=0.25,epochs=20,batch_size=128,verbose=1,use_multiprocessing=True)\n",
        "logs=red2.fit(trainingData3,trainingCategories,validation_split=0.25,epochs=20,batch_size=128,verbose=1,use_multiprocessing=True)"
      ]
    },
    {
      "cell_type": "code",
      "source": [
        "loss1,acc1=red1.evaluate(testData,testCategories,verbose=1)\n",
        "loss2,acc2=red2.evaluate(testData,testCategories,verbose=1)"
      ],
      "metadata": {
        "id": "6B7H2mA5yZgp",
        "colab": {
          "base_uri": "https://localhost:8080/"
        },
        "outputId": "82bb7d20-21c2-411f-998a-927828e9fb25"
      },
      "execution_count": 7,
      "outputs": [
        {
          "output_type": "stream",
          "name": "stdout",
          "text": [
            "313/313 [==============================] - 1s 3ms/step - loss: 220.3676 - accuracy: 0.6150\n",
            "313/313 [==============================] - 1s 3ms/step - loss: 321.3246 - accuracy: 0.4643\n"
          ]
        }
      ]
    },
    {
      "cell_type": "code",
      "source": [
        "confusionMatrixR1={\n",
        "        0:[0,0,0,0,0,0,0,0,0,0],\n",
        "        1:[0,0,0,0,0,0,0,0,0,0],\n",
        "        2:[0,0,0,0,0,0,0,0,0,0],\n",
        "        3:[0,0,0,0,0,0,0,0,0,0],\n",
        "        4:[0,0,0,0,0,0,0,0,0,0],\n",
        "        5:[0,0,0,0,0,0,0,0,0,0],\n",
        "        6:[0,0,0,0,0,0,0,0,0,0],\n",
        "        7:[0,0,0,0,0,0,0,0,0,0],\n",
        "        8:[0,0,0,0,0,0,0,0,0,0],\n",
        "        9:[0,0,0,0,0,0,0,0,0,0]\n",
        "}\n",
        "confusionMatrixR2={\n",
        "        0:[0,0,0,0,0,0,0,0,0,0],\n",
        "        1:[0,0,0,0,0,0,0,0,0,0],\n",
        "        2:[0,0,0,0,0,0,0,0,0,0],\n",
        "        3:[0,0,0,0,0,0,0,0,0,0],\n",
        "        4:[0,0,0,0,0,0,0,0,0,0],\n",
        "        5:[0,0,0,0,0,0,0,0,0,0],\n",
        "        6:[0,0,0,0,0,0,0,0,0,0],\n",
        "        7:[0,0,0,0,0,0,0,0,0,0],\n",
        "        8:[0,0,0,0,0,0,0,0,0,0],\n",
        "        9:[0,0,0,0,0,0,0,0,0,0]\n",
        "}"
      ],
      "metadata": {
        "id": "dsb5vJGOfZsQ"
      },
      "execution_count": 8,
      "outputs": []
    },
    {
      "cell_type": "code",
      "source": [
        "for i in tqdm(range(10000)):\n",
        "  imagen=testData[i]\n",
        "  salida1=red1.predict(asarray([imagen]))\n",
        "  salida2=red2.predict(asarray([imagen]))\n",
        "\n",
        "  confusionMatrixR1[testCategories[i][0]][argmax(salida1)]+=1\n",
        "  confusionMatrixR2[testCategories[i][0]][argmax(salida2)]+=1"
      ],
      "metadata": {
        "id": "Mr0cV4A3Z-Xi",
        "colab": {
          "base_uri": "https://localhost:8080/"
        },
        "outputId": "b92d2644-126d-4786-82de-92d5457bc20e"
      },
      "execution_count": 9,
      "outputs": [
        {
          "output_type": "stream",
          "name": "stderr",
          "text": [
            "100%|██████████| 10000/10000 [13:08<00:00, 12.69it/s]\n"
          ]
        }
      ]
    },
    {
      "cell_type": "code",
      "source": [
        "categories=[\"avion\",\"auto\",\"pajaro\",\"gato\",\"venado\",\"perro\",\"rana\",\"caballo\",\"barco\",\"camion\"]\n",
        "\n",
        "resultsCategoriesR1=pd.DataFrame({\n",
        "    \"Valores Esperados/Valores Obtenidos\":categories,\n",
        "    \"avion\":confusionMatrixR1[0],\n",
        "    \"auto\":confusionMatrixR1[1],\n",
        "    \"pajaro\":confusionMatrixR1[2],\n",
        "    \"gato\":confusionMatrixR1[3],\n",
        "    \"venado\":confusionMatrixR1[4],\n",
        "    \"perro\":confusionMatrixR1[5],\n",
        "    \"rana\":confusionMatrixR1[6],\n",
        "    \"caballo\":confusionMatrixR1[7],\n",
        "    \"barco\":confusionMatrixR1[8],\n",
        "    \"camion\":confusionMatrixR1[9]\n",
        "})\n",
        "\n",
        "resultsCategoriesR2=pd.DataFrame({\n",
        "    \"Valores Esperados/Valores Obtenidos\":categories,\n",
        "    \"avion\":confusionMatrixR2[0],\n",
        "    \"auto\":confusionMatrixR2[1],\n",
        "    \"pajaro\":confusionMatrixR2[2],\n",
        "    \"gato\":confusionMatrixR2[3],\n",
        "    \"venado\":confusionMatrixR2[4],\n",
        "    \"perro\":confusionMatrixR2[5],\n",
        "    \"rana\":confusionMatrixR2[6],\n",
        "    \"caballo\":confusionMatrixR2[7],\n",
        "    \"barco\":confusionMatrixR2[8],\n",
        "    \"camion\":confusionMatrixR2[9]\n",
        "})\n",
        "\n",
        "writer=pd.ExcelWriter(\"results.xlsx\")\n",
        "resultsCategoriesR1.to_excel(writer,index=False,sheet_name=\"Resultados R1\")\n",
        "resultsCategoriesR2.to_excel(writer,index=False,sheet_name=\"Resultados R2\")\n",
        "writer.save()"
      ],
      "metadata": {
        "id": "k3ymKVlgaHWK"
      },
      "execution_count": 10,
      "outputs": []
    }
  ],
  "metadata": {
    "accelerator": "GPU",
    "colab": {
      "collapsed_sections": [],
      "name": "Proyecto Final Simulacion.ipynb",
      "provenance": [],
      "authorship_tag": "ABX9TyPhdKoFYhT7ZcyYAznz8r12",
      "include_colab_link": true
    },
    "kernelspec": {
      "display_name": "Python 3",
      "name": "python3"
    },
    "language_info": {
      "name": "python"
    }
  },
  "nbformat": 4,
  "nbformat_minor": 0
}