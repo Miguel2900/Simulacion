{
  "cells": [
    {
      "cell_type": "markdown",
      "metadata": {
        "id": "view-in-github",
        "colab_type": "text"
      },
      "source": [
        "<a href=\"https://colab.research.google.com/github/Miguel2900/Simulacion/blob/main/Proyecto_Final_Simulacion.ipynb\" target=\"_parent\"><img src=\"https://colab.research.google.com/assets/colab-badge.svg\" alt=\"Open In Colab\"/></a>"
      ]
    },
    {
      "cell_type": "code",
      "execution_count": null,
      "metadata": {
        "id": "7oMKtp0hCnQY"
      },
      "outputs": [],
      "source": [
        "from tensorflow.keras.datasets.cifar10 import load_data\n",
        "from matplotlib import pyplot\n",
        "from numpy import asarray\n",
        "from numpy import unique\n",
        "from numpy import argmax"
      ]
    },
    {
      "cell_type": "code",
      "execution_count": null,
      "metadata": {
        "id": "f0Ie52LSDkQd"
      },
      "outputs": [],
      "source": [
        "from tensorflow.keras import Sequential\n",
        "from tensorflow.keras.layers import Dense\n",
        "from tensorflow.keras.layers import Conv2D\n",
        "from tensorflow.keras.layers import MaxPool2D\n",
        "from tensorflow.keras.layers import Flatten\n",
        "from tensorflow.keras.layers import Dropout"
      ]
    },
    {
      "cell_type": "code",
      "source": [
        "import pandas as pd\n",
        "from tqdm import tqdm"
      ],
      "metadata": {
        "id": "AU1mvWWSoWMM"
      },
      "execution_count": null,
      "outputs": []
    },
    {
      "cell_type": "code",
      "execution_count": null,
      "metadata": {
        "id": "C20DshofDmYS",
        "colab": {
          "base_uri": "https://localhost:8080/"
        },
        "outputId": "c635fea0-bcce-4c11-840b-31577b1b8580"
      },
      "outputs": [
        {
          "output_type": "stream",
          "name": "stdout",
          "text": [
            "Downloading data from https://www.cs.toronto.edu/~kriz/cifar-10-python.tar.gz\n",
            "170500096/170498071 [==============================] - 3s 0us/step\n",
            "170508288/170498071 [==============================] - 3s 0us/step\n",
            "entrenamiento: datos:(50000, 32, 32, 3), clases:(50000, 1)\n"
          ]
        }
      ],
      "source": [
        "(trainingData,trainingCategories),(testData,testCategories) = load_data()"
      ]
    },
    {
      "cell_type": "code",
      "execution_count": null,
      "metadata": {
        "colab": {
          "base_uri": "https://localhost:8080/"
        },
        "id": "_ehrZBg7GxEx",
        "outputId": "1f116876-c87c-4e8f-b2fc-a7da21537b7c"
      },
      "outputs": [
        {
          "output_type": "stream",
          "name": "stdout",
          "text": [
            "(50000, 32, 32, 3)\n",
            "(5000, 32, 32, 3)\n"
          ]
        }
      ],
      "source": [
        "trainingData2=trainingData\n",
        "trainingData3=trainingData[:5000]\n",
        "testData2=testData\n",
        "\n",
        "print(trainingData2.shape)\n",
        "print(trainingData3.shape)\n",
        "\n",
        "trainingData2=trainingData2.astype('float32')/255.0\n",
        "trainingData3=trainingData3.astype('float32')/255.0\n",
        "testData2=testData2.astype('float32')/255.0\n",
        "format=trainingData.shape[1:]\n",
        "clasif=len(unique(trainingCategories))"
      ]
    },
    {
      "cell_type": "code",
      "execution_count": null,
      "metadata": {
        "id": "egSywVE7JRuM"
      },
      "outputs": [],
      "source": [
        "red1=Sequential()\n",
        "red1.add(Conv2D(32,(3,3),activation='relu',kernel_initializer='he_uniform',input_shape=format))\n",
        "red1.add(MaxPool2D((3,3)))\n",
        "red1.add(Conv2D(48,(3,3),activation='relu',kernel_initializer='he_uniform',input_shape=format))\n",
        "red1.add(MaxPool2D((2,2)))\n",
        "red1.add(Conv2D(64,(2,2),activation='relu',kernel_initializer='he_uniform',input_shape=format))\n",
        "red1.add(Flatten())\n",
        "red1.add(Dense(500,activation='relu',kernel_initializer='he_uniform'))\n",
        "red1.add(Dropout(0.5))\n",
        "red1.add(Dense(clasif,activation='softmax'))\n",
        "\n",
        "red1.compile(optimizer='adam',loss='sparse_categorical_crossentropy',metrics=['accuracy'])"
      ]
    },
    {
      "cell_type": "code",
      "source": [
        "red2=Sequential()\n",
        "red2.add(Conv2D(32,(3,3),activation='relu',kernel_initializer='he_uniform',input_shape=format))\n",
        "red2.add(MaxPool2D((3,3)))\n",
        "red2.add(Conv2D(48,(3,3),activation='relu',kernel_initializer='he_uniform',input_shape=format))\n",
        "red2.add(MaxPool2D((2,2)))\n",
        "red2.add(Conv2D(64,(2,2),activation='relu',kernel_initializer='he_uniform',input_shape=format))\n",
        "red2.add(Flatten())\n",
        "red2.add(Dense(500,activation='relu',kernel_initializer='he_uniform'))\n",
        "red2.add(Dropout(0.5))\n",
        "red2.add(Dense(clasif,activation='softmax'))\n",
        "\n",
        "red2.compile(optimizer='adam',loss='sparse_categorical_crossentropy',metrics=['accuracy'])"
      ],
      "metadata": {
        "id": "8A1ycEZ8ksgC"
      },
      "execution_count": null,
      "outputs": []
    },
    {
      "cell_type": "code",
      "execution_count": null,
      "metadata": {
        "colab": {
          "base_uri": "https://localhost:8080/"
        },
        "id": "yGqNwYXDOzfs",
        "outputId": "374e695d-c26d-4c4d-f35c-a47f6abc57a1"
      },
      "outputs": [
        {
          "output_type": "stream",
          "name": "stdout",
          "text": [
            "Epoch 1/20\n",
            "293/293 [==============================] - 13s 9ms/step - loss: 1.6867 - accuracy: 0.3827 - val_loss: 1.3984 - val_accuracy: 0.5015\n",
            "Epoch 2/20\n",
            "293/293 [==============================] - 2s 6ms/step - loss: 1.3308 - accuracy: 0.5254 - val_loss: 1.2516 - val_accuracy: 0.5596\n",
            "Epoch 3/20\n",
            "293/293 [==============================] - 2s 6ms/step - loss: 1.1948 - accuracy: 0.5743 - val_loss: 1.1196 - val_accuracy: 0.6074\n",
            "Epoch 4/20\n",
            "293/293 [==============================] - 2s 6ms/step - loss: 1.0897 - accuracy: 0.6156 - val_loss: 1.1096 - val_accuracy: 0.6104\n",
            "Epoch 5/20\n",
            "293/293 [==============================] - 2s 6ms/step - loss: 1.0174 - accuracy: 0.6401 - val_loss: 1.0339 - val_accuracy: 0.6397\n",
            "Epoch 6/20\n",
            "293/293 [==============================] - 2s 6ms/step - loss: 0.9640 - accuracy: 0.6608 - val_loss: 1.0080 - val_accuracy: 0.6484\n",
            "Epoch 7/20\n",
            "293/293 [==============================] - 2s 6ms/step - loss: 0.9002 - accuracy: 0.6830 - val_loss: 0.9756 - val_accuracy: 0.6646\n",
            "Epoch 8/20\n",
            "293/293 [==============================] - 2s 6ms/step - loss: 0.8456 - accuracy: 0.7004 - val_loss: 0.9155 - val_accuracy: 0.6849\n",
            "Epoch 9/20\n",
            "293/293 [==============================] - 2s 6ms/step - loss: 0.8080 - accuracy: 0.7163 - val_loss: 0.9166 - val_accuracy: 0.6850\n",
            "Epoch 10/20\n",
            "293/293 [==============================] - 2s 6ms/step - loss: 0.7730 - accuracy: 0.7283 - val_loss: 0.9280 - val_accuracy: 0.6881\n",
            "Epoch 11/20\n",
            "293/293 [==============================] - 2s 6ms/step - loss: 0.7362 - accuracy: 0.7417 - val_loss: 0.9032 - val_accuracy: 0.6919\n",
            "Epoch 12/20\n",
            "293/293 [==============================] - 2s 7ms/step - loss: 0.6983 - accuracy: 0.7541 - val_loss: 0.8802 - val_accuracy: 0.7049\n",
            "Epoch 13/20\n",
            "293/293 [==============================] - 2s 6ms/step - loss: 0.6594 - accuracy: 0.7678 - val_loss: 0.8867 - val_accuracy: 0.7021\n",
            "Epoch 14/20\n",
            "293/293 [==============================] - 2s 6ms/step - loss: 0.6289 - accuracy: 0.7774 - val_loss: 0.8718 - val_accuracy: 0.7092\n",
            "Epoch 15/20\n",
            "293/293 [==============================] - 2s 6ms/step - loss: 0.5955 - accuracy: 0.7912 - val_loss: 0.9089 - val_accuracy: 0.6995\n",
            "Epoch 16/20\n",
            "293/293 [==============================] - 2s 6ms/step - loss: 0.5699 - accuracy: 0.7999 - val_loss: 0.8884 - val_accuracy: 0.7042\n",
            "Epoch 17/20\n",
            "293/293 [==============================] - 2s 6ms/step - loss: 0.5433 - accuracy: 0.8055 - val_loss: 0.9074 - val_accuracy: 0.7054\n",
            "Epoch 18/20\n",
            "293/293 [==============================] - 2s 6ms/step - loss: 0.5247 - accuracy: 0.8119 - val_loss: 0.8809 - val_accuracy: 0.7158\n",
            "Epoch 19/20\n",
            "293/293 [==============================] - 2s 6ms/step - loss: 0.4961 - accuracy: 0.8231 - val_loss: 0.8989 - val_accuracy: 0.7123\n",
            "Epoch 20/20\n",
            "293/293 [==============================] - 2s 6ms/step - loss: 0.4741 - accuracy: 0.8317 - val_loss: 0.8956 - val_accuracy: 0.7183\n",
            "Epoch 1/20\n",
            "30/30 [==============================] - 1s 15ms/step - loss: 2.4265 - accuracy: 0.1456 - val_loss: 2.1090 - val_accuracy: 0.2848\n",
            "Epoch 2/20\n",
            "30/30 [==============================] - 0s 8ms/step - loss: 1.9735 - accuracy: 0.2872 - val_loss: 1.8549 - val_accuracy: 0.3296\n",
            "Epoch 3/20\n",
            "30/30 [==============================] - 0s 8ms/step - loss: 1.7632 - accuracy: 0.3648 - val_loss: 1.6768 - val_accuracy: 0.4256\n",
            "Epoch 4/20\n",
            "30/30 [==============================] - 0s 7ms/step - loss: 1.6156 - accuracy: 0.4099 - val_loss: 1.6010 - val_accuracy: 0.4336\n",
            "Epoch 5/20\n",
            "30/30 [==============================] - 0s 8ms/step - loss: 1.5209 - accuracy: 0.4525 - val_loss: 1.5237 - val_accuracy: 0.4512\n",
            "Epoch 6/20\n",
            "30/30 [==============================] - 0s 8ms/step - loss: 1.4563 - accuracy: 0.4760 - val_loss: 1.4792 - val_accuracy: 0.4768\n",
            "Epoch 7/20\n",
            "30/30 [==============================] - 0s 7ms/step - loss: 1.3641 - accuracy: 0.5171 - val_loss: 1.4318 - val_accuracy: 0.4768\n",
            "Epoch 8/20\n",
            "30/30 [==============================] - 0s 7ms/step - loss: 1.2816 - accuracy: 0.5469 - val_loss: 1.4452 - val_accuracy: 0.4840\n",
            "Epoch 9/20\n",
            "30/30 [==============================] - 0s 8ms/step - loss: 1.2212 - accuracy: 0.5669 - val_loss: 1.4031 - val_accuracy: 0.4904\n",
            "Epoch 10/20\n",
            "30/30 [==============================] - 0s 8ms/step - loss: 1.1732 - accuracy: 0.5813 - val_loss: 1.5102 - val_accuracy: 0.4728\n",
            "Epoch 11/20\n",
            "30/30 [==============================] - 0s 7ms/step - loss: 1.1413 - accuracy: 0.5880 - val_loss: 1.4028 - val_accuracy: 0.5072\n",
            "Epoch 12/20\n",
            "30/30 [==============================] - 0s 8ms/step - loss: 1.0469 - accuracy: 0.6323 - val_loss: 1.4012 - val_accuracy: 0.5088\n",
            "Epoch 13/20\n",
            "30/30 [==============================] - 0s 7ms/step - loss: 1.0112 - accuracy: 0.6469 - val_loss: 1.3937 - val_accuracy: 0.5096\n",
            "Epoch 14/20\n",
            "30/30 [==============================] - 0s 8ms/step - loss: 0.9591 - accuracy: 0.6696 - val_loss: 1.3971 - val_accuracy: 0.5104\n",
            "Epoch 15/20\n",
            "30/30 [==============================] - 0s 7ms/step - loss: 0.8907 - accuracy: 0.6872 - val_loss: 1.4229 - val_accuracy: 0.5144\n",
            "Epoch 16/20\n",
            "30/30 [==============================] - 0s 7ms/step - loss: 0.8459 - accuracy: 0.7005 - val_loss: 1.3650 - val_accuracy: 0.5248\n",
            "Epoch 17/20\n",
            "30/30 [==============================] - 0s 8ms/step - loss: 0.7981 - accuracy: 0.7264 - val_loss: 1.4437 - val_accuracy: 0.5184\n",
            "Epoch 18/20\n",
            "30/30 [==============================] - 0s 7ms/step - loss: 0.7764 - accuracy: 0.7301 - val_loss: 1.5054 - val_accuracy: 0.5112\n",
            "Epoch 19/20\n",
            "30/30 [==============================] - 0s 7ms/step - loss: 0.7245 - accuracy: 0.7488 - val_loss: 1.4385 - val_accuracy: 0.5216\n",
            "Epoch 20/20\n",
            "30/30 [==============================] - 0s 8ms/step - loss: 0.6784 - accuracy: 0.7595 - val_loss: 1.4437 - val_accuracy: 0.5232\n"
          ]
        }
      ],
      "source": [
        "logs=red1.fit(trainingData2,trainingCategories,validation_split=0.25,epochs=20,batch_size=128,verbose=1,use_multiprocessing=True)\n",
        "logs=red2.fit(trainingData3,trainingCategories,validation_split=0.25,epochs=20,batch_size=128,verbose=1,use_multiprocessing=True)"
      ]
    },
    {
      "cell_type": "code",
      "source": [
        "loss1,acc1=red1.evaluate(testData,testCategories,verbose=1)\n",
        "loss2,acc2=red2.evaluate(testData,testCategories,verbose=1)"
      ],
      "metadata": {
        "id": "6B7H2mA5yZgp",
        "colab": {
          "base_uri": "https://localhost:8080/"
        },
        "outputId": "4c447c2b-aedc-4a3e-eb30-535ad3b81bd8"
      },
      "execution_count": null,
      "outputs": [
        {
          "output_type": "stream",
          "name": "stdout",
          "text": [
            "313/313 [==============================] - 1s 3ms/step - loss: 224.7247 - accuracy: 0.5926\n",
            "313/313 [==============================] - 1s 3ms/step - loss: 316.8642 - accuracy: 0.4499\n"
          ]
        }
      ]
    },
    {
      "cell_type": "code",
      "source": [
        "confusionMatrixR1={\n",
        "        0:[0,0,0,0,0,0,0,0,0,0],\n",
        "        1:[0,0,0,0,0,0,0,0,0,0],\n",
        "        2:[0,0,0,0,0,0,0,0,0,0],\n",
        "        3:[0,0,0,0,0,0,0,0,0,0],\n",
        "        4:[0,0,0,0,0,0,0,0,0,0],\n",
        "        5:[0,0,0,0,0,0,0,0,0,0],\n",
        "        6:[0,0,0,0,0,0,0,0,0,0],\n",
        "        7:[0,0,0,0,0,0,0,0,0,0],\n",
        "        8:[0,0,0,0,0,0,0,0,0,0],\n",
        "        9:[0,0,0,0,0,0,0,0,0,0]\n",
        "}\n",
        "confusionMatrixR2={\n",
        "        0:[0,0,0,0,0,0,0,0,0,0],\n",
        "        1:[0,0,0,0,0,0,0,0,0,0],\n",
        "        2:[0,0,0,0,0,0,0,0,0,0],\n",
        "        3:[0,0,0,0,0,0,0,0,0,0],\n",
        "        4:[0,0,0,0,0,0,0,0,0,0],\n",
        "        5:[0,0,0,0,0,0,0,0,0,0],\n",
        "        6:[0,0,0,0,0,0,0,0,0,0],\n",
        "        7:[0,0,0,0,0,0,0,0,0,0],\n",
        "        8:[0,0,0,0,0,0,0,0,0,0],\n",
        "        9:[0,0,0,0,0,0,0,0,0,0]\n",
        "}"
      ],
      "metadata": {
        "id": "dsb5vJGOfZsQ"
      },
      "execution_count": null,
      "outputs": []
    },
    {
      "cell_type": "code",
      "source": [
        "for i in tqdm(range(10000)):\n",
        "  imagen=testData[i]\n",
        "  salida1=red1.predict(asarray([imagen]))\n",
        "  salida2=red2.predict(asarray([imagen]))\n",
        "\n",
        "  confusionMatrixR1[testCategories[i][0]][argmax(salida1)]+=1\n",
        "  confusionMatrixR2[testCategories[i][0]][argmax(salida2)]+=1\n",
        "\n",
        "  if(argmax(salida1) == testCategories[i]):\n",
        "    redPrecision[1][0] += 1\n",
        "    \n",
        "  if(argmax(salida1) != testCategories[i]):\n",
        "    redPrecision[1][1] += 1\n",
        "\n",
        "  if(argmax(salida2) == testCategories[i]):\n",
        "    redPrecision[2][0] += 1\n",
        "\n",
        "  if(argmax(salida2) != testCategories[i]):\n",
        "    redPrecision[2][1] += 1"
      ],
      "metadata": {
        "colab": {
          "base_uri": "https://localhost:8080/"
        },
        "id": "Mr0cV4A3Z-Xi",
        "outputId": "642df16e-8eca-4ab5-f238-6eed1caf6e63"
      },
      "execution_count": null,
      "outputs": [
        {
          "output_type": "stream",
          "name": "stderr",
          "text": [
            "100%|██████████| 10000/10000 [12:56<00:00, 12.88it/s]\n"
          ]
        }
      ]
    },
    {
      "cell_type": "code",
      "source": [
        "categories=[\"avion\",\"auto\",\"pajaro\",\"gato\",\"venado\",\"perro\",\"rana\",\"caballo\",\"barco\",\"camion\"]\n",
        "\n",
        "resultsCategoriesR1=pd.DataFrame({\n",
        "    \"Valores Esperados/Valores Obtenidos\":categories,\n",
        "    \"avion\":confusionMatrixR1[0],\n",
        "    \"auto\":confusionMatrixR1[1],\n",
        "    \"pajaro\":confusionMatrixR1[2],\n",
        "    \"gato\":confusionMatrixR1[3],\n",
        "    \"venado\":confusionMatrixR1[4],\n",
        "    \"perro\":confusionMatrixR1[5],\n",
        "    \"rana\":confusionMatrixR1[6],\n",
        "    \"caballo\":confusionMatrixR1[7],\n",
        "    \"barco\":confusionMatrixR1[8],\n",
        "    \"camion\":confusionMatrixR1[9]\n",
        "})\n",
        "\n",
        "resultsCategoriesR2=pd.DataFrame({\n",
        "    \"Valores Esperados/Valores Obtenidos\":categories,\n",
        "    \"avion\":confusionMatrixR2[0],\n",
        "    \"auto\":confusionMatrixR2[1],\n",
        "    \"pajaro\":confusionMatrixR2[2],\n",
        "    \"gato\":confusionMatrixR2[3],\n",
        "    \"venado\":confusionMatrixR2[4],\n",
        "    \"perro\":confusionMatrixR2[5],\n",
        "    \"rana\":confusionMatrixR2[6],\n",
        "    \"caballo\":confusionMatrixR2[7],\n",
        "    \"barco\":confusionMatrixR2[8],\n",
        "    \"camion\":confusionMatrixR2[9]\n",
        "})\n",
        "\n",
        "writer=pd.ExcelWriter(\"results.xlsx\")\n",
        "resultsCategoriesR1.to_excel(writer,index=False,sheet_name=\"Resultados R1\")\n",
        "resultsCategoriesR2.to_excel(writer,index=False,sheet_name=\"Resultados R2\")\n",
        "writer.save()"
      ],
      "metadata": {
        "id": "k3ymKVlgaHWK"
      },
      "execution_count": null,
      "outputs": []
    }
  ],
  "metadata": {
    "accelerator": "GPU",
    "colab": {
      "collapsed_sections": [],
      "name": "Proyecto Final Simulacion.ipynb",
      "provenance": [],
      "authorship_tag": "ABX9TyP/39iaSXbjI0Ss/scUNbXs",
      "include_colab_link": true
    },
    "kernelspec": {
      "display_name": "Python 3",
      "name": "python3"
    },
    "language_info": {
      "name": "python"
    }
  },
  "nbformat": 4,
  "nbformat_minor": 0
}