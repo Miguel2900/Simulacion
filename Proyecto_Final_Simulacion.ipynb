{
  "cells": [
    {
      "cell_type": "markdown",
      "metadata": {
        "id": "view-in-github",
        "colab_type": "text"
      },
      "source": [
        "<a href=\"https://colab.research.google.com/github/Miguel2900/Simulacion/blob/main/Proyecto_Final_Simulacion.ipynb\" target=\"_parent\"><img src=\"https://colab.research.google.com/assets/colab-badge.svg\" alt=\"Open In Colab\"/></a>"
      ]
    },
    {
      "cell_type": "code",
      "execution_count": 1,
      "metadata": {
        "id": "7oMKtp0hCnQY"
      },
      "outputs": [],
      "source": [
        "from tensorflow.keras.datasets.cifar10 import load_data\n",
        "from numpy import asarray\n",
        "from numpy import unique\n",
        "from numpy import argmax\n",
        "\n",
        "from tensorflow.keras import Sequential\n",
        "from tensorflow.keras.layers import Dense\n",
        "from tensorflow.keras.layers import Conv2D\n",
        "from tensorflow.keras.layers import MaxPool2D\n",
        "from tensorflow.keras.layers import Flatten\n",
        "from tensorflow.keras.layers import Dropout\n",
        "from tensorflow.keras.preprocessing.image import ImageDataGenerator\n",
        "\n",
        "import pandas as pd\n",
        "from tqdm import tqdm"
      ]
    },
    {
      "cell_type": "code",
      "execution_count": 2,
      "metadata": {
        "id": "C20DshofDmYS"
      },
      "outputs": [],
      "source": [
        "(trainingData,trainingCategories),(testData,testCategories) = load_data()"
      ]
    },
    {
      "cell_type": "code",
      "execution_count": 3,
      "metadata": {
        "id": "_ehrZBg7GxEx"
      },
      "outputs": [],
      "source": [
        "trainingData2=trainingData\n",
        "trainingData3=trainingData[:5000]\n",
        "testData2=testData\n",
        "\n",
        "trainingData2=trainingData2.astype('float32')/255.0\n",
        "trainingData3=trainingData3.astype('float32')/255.0\n",
        "testData2=testData2.astype('float32')/255.0\n",
        "format=trainingData.shape[1:]\n",
        "clasif=len(unique(trainingCategories))\n",
        "\n",
        "datagen = ImageDataGenerator(\n",
        "    rotation_range = 30,\n",
        "    width_shift_range = 0.25,\n",
        "    height_shift_range = 0.25,\n",
        "    zoom_range=[0.5,1.5],\n",
        ")\n",
        "datagen.fit(trainingData2)\n",
        "datagen.fit(trainingData3)"
      ]
    },
    {
      "cell_type": "code",
      "execution_count": 4,
      "metadata": {
        "id": "egSywVE7JRuM"
      },
      "outputs": [],
      "source": [
        "red1=Sequential()\n",
        "red1.add(Conv2D(32,(3,3),activation='relu',kernel_initializer='he_uniform',input_shape=format))\n",
        "red1.add(MaxPool2D((3,3)))\n",
        "red1.add(Conv2D(48,(3,3),activation='relu',kernel_initializer='he_uniform',input_shape=format))\n",
        "red1.add(MaxPool2D((2,2)))\n",
        "red1.add(Conv2D(64,(2,2),activation='relu',kernel_initializer='he_uniform',input_shape=format))\n",
        "red1.add(Flatten())\n",
        "red1.add(Dense(500,activation='relu',kernel_initializer='he_uniform'))\n",
        "red1.add(Dropout(0.5))\n",
        "red1.add(Dense(clasif,activation='softmax'))\n",
        "\n",
        "red1.compile(optimizer='adam',loss='sparse_categorical_crossentropy',metrics=['accuracy'])"
      ]
    },
    {
      "cell_type": "code",
      "source": [
        "red2=Sequential()\n",
        "red2.add(Conv2D(32,(3,3),activation='relu',kernel_initializer='he_uniform',input_shape=format))\n",
        "red2.add(MaxPool2D((3,3)))\n",
        "red2.add(Conv2D(48,(3,3),activation='relu',kernel_initializer='he_uniform',input_shape=format))\n",
        "red2.add(MaxPool2D((2,2)))\n",
        "red2.add(Conv2D(64,(2,2),activation='relu',kernel_initializer='he_uniform',input_shape=format))\n",
        "red2.add(Flatten())\n",
        "red2.add(Dense(500,activation='relu',kernel_initializer='he_uniform'))\n",
        "red2.add(Dropout(0.5))\n",
        "red2.add(Dense(clasif,activation='softmax'))\n",
        "\n",
        "red2.compile(optimizer='adam',loss='sparse_categorical_crossentropy',metrics=['accuracy'])"
      ],
      "metadata": {
        "id": "8A1ycEZ8ksgC"
      },
      "execution_count": 5,
      "outputs": []
    },
    {
      "cell_type": "code",
      "execution_count": 6,
      "metadata": {
        "id": "yGqNwYXDOzfs",
        "colab": {
          "base_uri": "https://localhost:8080/"
        },
        "outputId": "ebe83ef9-eb92-454f-c354-a9b55749e757"
      },
      "outputs": [
        {
          "output_type": "stream",
          "name": "stdout",
          "text": [
            "Epoch 1/20\n",
            "293/293 [==============================] - 13s 9ms/step - loss: 1.7253 - accuracy: 0.3702 - val_loss: 1.4785 - val_accuracy: 0.4665\n",
            "Epoch 2/20\n",
            "293/293 [==============================] - 2s 7ms/step - loss: 1.3606 - accuracy: 0.5135 - val_loss: 1.2403 - val_accuracy: 0.5605\n",
            "Epoch 3/20\n",
            "293/293 [==============================] - 2s 6ms/step - loss: 1.2280 - accuracy: 0.5626 - val_loss: 1.1791 - val_accuracy: 0.5796\n",
            "Epoch 4/20\n",
            "293/293 [==============================] - 2s 6ms/step - loss: 1.1338 - accuracy: 0.5948 - val_loss: 1.1131 - val_accuracy: 0.6054\n",
            "Epoch 5/20\n",
            "293/293 [==============================] - 2s 6ms/step - loss: 1.0667 - accuracy: 0.6215 - val_loss: 1.0878 - val_accuracy: 0.6195\n",
            "Epoch 6/20\n",
            "293/293 [==============================] - 2s 6ms/step - loss: 0.9950 - accuracy: 0.6487 - val_loss: 1.0129 - val_accuracy: 0.6493\n",
            "Epoch 7/20\n",
            "293/293 [==============================] - 2s 6ms/step - loss: 0.9400 - accuracy: 0.6687 - val_loss: 1.0010 - val_accuracy: 0.6488\n",
            "Epoch 8/20\n",
            "293/293 [==============================] - 2s 6ms/step - loss: 0.8966 - accuracy: 0.6848 - val_loss: 0.9507 - val_accuracy: 0.6702\n",
            "Epoch 9/20\n",
            "293/293 [==============================] - 2s 6ms/step - loss: 0.8532 - accuracy: 0.6971 - val_loss: 0.9312 - val_accuracy: 0.6749\n",
            "Epoch 10/20\n",
            "293/293 [==============================] - 2s 6ms/step - loss: 0.7999 - accuracy: 0.7166 - val_loss: 0.8998 - val_accuracy: 0.6886\n",
            "Epoch 11/20\n",
            "293/293 [==============================] - 2s 6ms/step - loss: 0.7556 - accuracy: 0.7335 - val_loss: 0.9111 - val_accuracy: 0.6879\n",
            "Epoch 12/20\n",
            "293/293 [==============================] - 2s 6ms/step - loss: 0.7257 - accuracy: 0.7433 - val_loss: 0.8858 - val_accuracy: 0.6945\n",
            "Epoch 13/20\n",
            "293/293 [==============================] - 2s 6ms/step - loss: 0.6867 - accuracy: 0.7574 - val_loss: 0.8786 - val_accuracy: 0.6997\n",
            "Epoch 14/20\n",
            "293/293 [==============================] - 2s 6ms/step - loss: 0.6555 - accuracy: 0.7667 - val_loss: 0.8941 - val_accuracy: 0.6950\n",
            "Epoch 15/20\n",
            "293/293 [==============================] - 2s 6ms/step - loss: 0.6269 - accuracy: 0.7785 - val_loss: 0.8873 - val_accuracy: 0.7030\n",
            "Epoch 16/20\n",
            "293/293 [==============================] - 2s 6ms/step - loss: 0.5943 - accuracy: 0.7873 - val_loss: 0.8747 - val_accuracy: 0.7050\n",
            "Epoch 17/20\n",
            "293/293 [==============================] - 2s 6ms/step - loss: 0.5585 - accuracy: 0.8046 - val_loss: 0.8932 - val_accuracy: 0.7022\n",
            "Epoch 18/20\n",
            "293/293 [==============================] - 2s 7ms/step - loss: 0.5368 - accuracy: 0.8085 - val_loss: 0.9078 - val_accuracy: 0.6983\n",
            "Epoch 19/20\n",
            "293/293 [==============================] - 2s 6ms/step - loss: 0.5120 - accuracy: 0.8163 - val_loss: 0.9175 - val_accuracy: 0.7043\n",
            "Epoch 20/20\n",
            "293/293 [==============================] - 2s 7ms/step - loss: 0.4891 - accuracy: 0.8261 - val_loss: 0.9194 - val_accuracy: 0.7076\n",
            "Epoch 1/20\n",
            "30/30 [==============================] - 1s 18ms/step - loss: 2.3294 - accuracy: 0.1597 - val_loss: 2.1026 - val_accuracy: 0.2392\n",
            "Epoch 2/20\n",
            "30/30 [==============================] - 0s 7ms/step - loss: 1.9823 - accuracy: 0.2707 - val_loss: 1.8336 - val_accuracy: 0.3344\n",
            "Epoch 3/20\n",
            "30/30 [==============================] - 0s 8ms/step - loss: 1.7984 - accuracy: 0.3445 - val_loss: 1.7650 - val_accuracy: 0.3472\n",
            "Epoch 4/20\n",
            "30/30 [==============================] - 0s 8ms/step - loss: 1.6797 - accuracy: 0.3872 - val_loss: 1.6599 - val_accuracy: 0.3984\n",
            "Epoch 5/20\n",
            "30/30 [==============================] - 0s 8ms/step - loss: 1.5990 - accuracy: 0.4293 - val_loss: 1.7130 - val_accuracy: 0.3992\n",
            "Epoch 6/20\n",
            "30/30 [==============================] - 0s 8ms/step - loss: 1.4972 - accuracy: 0.4720 - val_loss: 1.5329 - val_accuracy: 0.4560\n",
            "Epoch 7/20\n",
            "30/30 [==============================] - 0s 8ms/step - loss: 1.4226 - accuracy: 0.4851 - val_loss: 1.4754 - val_accuracy: 0.4744\n",
            "Epoch 8/20\n",
            "30/30 [==============================] - 0s 8ms/step - loss: 1.3474 - accuracy: 0.5155 - val_loss: 1.4537 - val_accuracy: 0.4976\n",
            "Epoch 9/20\n",
            "30/30 [==============================] - 0s 7ms/step - loss: 1.2913 - accuracy: 0.5376 - val_loss: 1.4955 - val_accuracy: 0.4776\n",
            "Epoch 10/20\n",
            "30/30 [==============================] - 0s 8ms/step - loss: 1.2480 - accuracy: 0.5669 - val_loss: 1.4855 - val_accuracy: 0.4752\n",
            "Epoch 11/20\n",
            "30/30 [==============================] - 0s 7ms/step - loss: 1.1551 - accuracy: 0.5968 - val_loss: 1.4009 - val_accuracy: 0.5040\n",
            "Epoch 12/20\n",
            "30/30 [==============================] - 0s 7ms/step - loss: 1.0618 - accuracy: 0.6395 - val_loss: 1.4886 - val_accuracy: 0.4944\n",
            "Epoch 13/20\n",
            "30/30 [==============================] - 0s 7ms/step - loss: 1.0781 - accuracy: 0.6176 - val_loss: 1.3819 - val_accuracy: 0.5080\n",
            "Epoch 14/20\n",
            "30/30 [==============================] - 0s 7ms/step - loss: 0.9656 - accuracy: 0.6624 - val_loss: 1.4483 - val_accuracy: 0.4896\n",
            "Epoch 15/20\n",
            "30/30 [==============================] - 0s 8ms/step - loss: 0.9176 - accuracy: 0.6768 - val_loss: 1.3716 - val_accuracy: 0.5352\n",
            "Epoch 16/20\n",
            "30/30 [==============================] - 0s 8ms/step - loss: 0.8880 - accuracy: 0.6896 - val_loss: 1.3499 - val_accuracy: 0.5424\n",
            "Epoch 17/20\n",
            "30/30 [==============================] - 0s 8ms/step - loss: 0.8214 - accuracy: 0.7181 - val_loss: 1.3767 - val_accuracy: 0.5408\n",
            "Epoch 18/20\n",
            "30/30 [==============================] - 0s 8ms/step - loss: 0.7809 - accuracy: 0.7293 - val_loss: 1.4016 - val_accuracy: 0.5248\n",
            "Epoch 19/20\n",
            "30/30 [==============================] - 0s 7ms/step - loss: 0.7371 - accuracy: 0.7355 - val_loss: 1.4044 - val_accuracy: 0.5272\n",
            "Epoch 20/20\n",
            "30/30 [==============================] - 0s 8ms/step - loss: 0.6775 - accuracy: 0.7704 - val_loss: 1.4095 - val_accuracy: 0.5376\n"
          ]
        }
      ],
      "source": [
        "logs=red1.fit(trainingData2,trainingCategories,validation_split=0.25,epochs=20,batch_size=128,verbose=1,use_multiprocessing=True)\n",
        "logs=red2.fit(trainingData3,trainingCategories,validation_split=0.25,epochs=20,batch_size=128,verbose=1,use_multiprocessing=True)"
      ]
    },
    {
      "cell_type": "code",
      "source": [
        "loss1,acc1=red1.evaluate(testData,testCategories,verbose=1)\n",
        "loss2,acc2=red2.evaluate(testData,testCategories,verbose=1)"
      ],
      "metadata": {
        "id": "6B7H2mA5yZgp",
        "colab": {
          "base_uri": "https://localhost:8080/"
        },
        "outputId": "b76da6e1-df20-4be9-e022-7f8200a0b21a"
      },
      "execution_count": 7,
      "outputs": [
        {
          "output_type": "stream",
          "name": "stdout",
          "text": [
            "313/313 [==============================] - 1s 3ms/step - loss: 211.2052 - accuracy: 0.5876\n",
            "313/313 [==============================] - 1s 3ms/step - loss: 306.2489 - accuracy: 0.4602\n"
          ]
        }
      ]
    },
    {
      "cell_type": "code",
      "source": [
        "confusionMatrixR1={\n",
        "        0:[0,0,0,0,0,0,0,0,0,0],\n",
        "        1:[0,0,0,0,0,0,0,0,0,0],\n",
        "        2:[0,0,0,0,0,0,0,0,0,0],\n",
        "        3:[0,0,0,0,0,0,0,0,0,0],\n",
        "        4:[0,0,0,0,0,0,0,0,0,0],\n",
        "        5:[0,0,0,0,0,0,0,0,0,0],\n",
        "        6:[0,0,0,0,0,0,0,0,0,0],\n",
        "        7:[0,0,0,0,0,0,0,0,0,0],\n",
        "        8:[0,0,0,0,0,0,0,0,0,0],\n",
        "        9:[0,0,0,0,0,0,0,0,0,0]\n",
        "}\n",
        "confusionMatrixR2={\n",
        "        0:[0,0,0,0,0,0,0,0,0,0],\n",
        "        1:[0,0,0,0,0,0,0,0,0,0],\n",
        "        2:[0,0,0,0,0,0,0,0,0,0],\n",
        "        3:[0,0,0,0,0,0,0,0,0,0],\n",
        "        4:[0,0,0,0,0,0,0,0,0,0],\n",
        "        5:[0,0,0,0,0,0,0,0,0,0],\n",
        "        6:[0,0,0,0,0,0,0,0,0,0],\n",
        "        7:[0,0,0,0,0,0,0,0,0,0],\n",
        "        8:[0,0,0,0,0,0,0,0,0,0],\n",
        "        9:[0,0,0,0,0,0,0,0,0,0]\n",
        "}"
      ],
      "metadata": {
        "id": "dsb5vJGOfZsQ"
      },
      "execution_count": 8,
      "outputs": []
    },
    {
      "cell_type": "code",
      "source": [
        "for i in tqdm(range(10000)):\n",
        "  imagen=testData2[i]\n",
        "  salida1=red1.predict(asarray([imagen]))\n",
        "  salida2=red2.predict(asarray([imagen]))\n",
        "\n",
        "  confusionMatrixR1[testCategories[i][0]][argmax(salida1)]+=1\n",
        "  confusionMatrixR2[testCategories[i][0]][argmax(salida2)]+=1"
      ],
      "metadata": {
        "id": "Mr0cV4A3Z-Xi",
        "colab": {
          "base_uri": "https://localhost:8080/"
        },
        "outputId": "aefc027f-e17f-4792-ba88-853765b7fcfc"
      },
      "execution_count": 9,
      "outputs": [
        {
          "output_type": "stream",
          "name": "stderr",
          "text": [
            "100%|██████████| 10000/10000 [13:12<00:00, 12.62it/s]\n"
          ]
        }
      ]
    },
    {
      "cell_type": "code",
      "source": [
        "categories=[\"avion\",\"auto\",\"pajaro\",\"gato\",\"venado\",\"perro\",\"rana\",\"caballo\",\"barco\",\"camion\"]\n",
        "\n",
        "resultsCategoriesR1=pd.DataFrame({\n",
        "    \"Valores Esperados/Valores Obtenidos\":categories,\n",
        "    \"avion\":confusionMatrixR1[0],\n",
        "    \"auto\":confusionMatrixR1[1],\n",
        "    \"pajaro\":confusionMatrixR1[2],\n",
        "    \"gato\":confusionMatrixR1[3],\n",
        "    \"venado\":confusionMatrixR1[4],\n",
        "    \"perro\":confusionMatrixR1[5],\n",
        "    \"rana\":confusionMatrixR1[6],\n",
        "    \"caballo\":confusionMatrixR1[7],\n",
        "    \"barco\":confusionMatrixR1[8],\n",
        "    \"camion\":confusionMatrixR1[9]\n",
        "})\n",
        "\n",
        "resultsCategoriesR2=pd.DataFrame({\n",
        "    \"Valores Esperados/Valores Obtenidos\":categories,\n",
        "    \"avion\":confusionMatrixR2[0],\n",
        "    \"auto\":confusionMatrixR2[1],\n",
        "    \"pajaro\":confusionMatrixR2[2],\n",
        "    \"gato\":confusionMatrixR2[3],\n",
        "    \"venado\":confusionMatrixR2[4],\n",
        "    \"perro\":confusionMatrixR2[5],\n",
        "    \"rana\":confusionMatrixR2[6],\n",
        "    \"caballo\":confusionMatrixR2[7],\n",
        "    \"barco\":confusionMatrixR2[8],\n",
        "    \"camion\":confusionMatrixR2[9]\n",
        "})\n",
        "\n",
        "writer=pd.ExcelWriter(\"results.xlsx\")\n",
        "resultsCategoriesR1.to_excel(writer,index=False,sheet_name=\"Resultados R1\")\n",
        "resultsCategoriesR2.to_excel(writer,index=False,sheet_name=\"Resultados R2\")\n",
        "writer.save()"
      ],
      "metadata": {
        "id": "k3ymKVlgaHWK"
      },
      "execution_count": 10,
      "outputs": []
    }
  ],
  "metadata": {
    "accelerator": "GPU",
    "colab": {
      "collapsed_sections": [],
      "name": "Proyecto Final Simulacion.ipynb",
      "provenance": [],
      "authorship_tag": "ABX9TyNQHQ+67tk2yYMYsXHUt4XC",
      "include_colab_link": true
    },
    "kernelspec": {
      "display_name": "Python 3",
      "name": "python3"
    },
    "language_info": {
      "name": "python"
    }
  },
  "nbformat": 4,
  "nbformat_minor": 0
}